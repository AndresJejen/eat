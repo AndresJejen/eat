{
 "cells": [
  {
   "cell_type": "code",
   "execution_count": 2,
   "metadata": {},
   "outputs": [],
   "source": [
    "%load_ext autoreload\n",
    "%autoreload 2\n",
    "\n",
    "import eat\n",
    "from astropy.coordinates import SkyCoord\n",
    "from astropy.time import Time"
   ]
  },
  {
   "cell_type": "code",
   "execution_count": 3,
   "metadata": {},
   "outputs": [
    {
     "name": "stdout",
     "output_type": "stream",
     "text": [
      "('SMAR', <EarthLocation (-5464555.493, -2492927.989,  2150797.176) m>)\n",
      "('SMAP', <EarthLocation (-5464555.493, -2492927.989,  2150797.176) m>)\n",
      "('ALMA', <EarthLocation ( 2225061.8731, -5440061.9534, -2481682.0838) m>)\n",
      "('APEX', <EarthLocation ( 2225039.5297, -5441197.6292, -2479303.3597) m>)\n",
      "('SMT', <EarthLocation (-1828796.2, -5054406.8,  3427865.2) m>)\n",
      "('LMT', <EarthLocation (-768715.632, -5988507.072,  2063354.852) m>)\n",
      "('PICO', <EarthLocation ( 5088967.9, -301681.6,  3825015.8) m>)\n",
      "('JCMT', <EarthLocation (-5464584.676, -2493001.17,  2150653.982) m>)\n"
     ]
    }
   ],
   "source": [
    "EHT = eat.EHT()\n",
    "for name in EHT.array:\n",
    "    site = EHT.array[name]\n",
    "    print(name, site.coord)"
   ]
  },
  {
   "cell_type": "code",
   "execution_count": 4,
   "metadata": {},
   "outputs": [
    {
     "name": "stdout",
     "output_type": "stream",
     "text": [
      "2017-04-04T22:30:00.000\n",
      "<SkyCoord (ICRS): (ra, dec) in deg\n",
      "    ( 266.41683708, -29.00781056)>\n"
     ]
    }
   ],
   "source": [
    "time = Time('2017-04-04T22:30:00.00', scale='utc')\n",
    "sgra_coord = SkyCoord('17h45m40.0409s', '-29d0m28.118s')\n",
    "print(time)\n",
    "print(sgra_coord)"
   ]
  },
  {
   "cell_type": "code",
   "execution_count": 5,
   "metadata": {},
   "outputs": [
    {
     "name": "stdout",
     "output_type": "stream",
     "text": [
      "('SMAR', <Angle -0.2101430178451824 rad>)\n",
      "('SMAP', <Angle -0.2101430178451824 rad>)\n",
      "('ALMA', <Angle 2.790691444162855 rad>)\n",
      "('APEX', <Angle 3.41216229062458 rad>)\n",
      "('SMT', <Angle -2.223590524368582 rad>)\n",
      "('LMT', <Angle -0.30823518423670726 rad>)\n",
      "('PICO', <Angle 1.4986982803246065 rad>)\n",
      "('JCMT', <Angle -1.4390043427560144 rad>)\n"
     ]
    }
   ],
   "source": [
    "for name in EHT.array:\n",
    "    site = EHT.array[name]\n",
    "    print(name, site.fra(time, sgra_coord))"
   ]
  },
  {
   "cell_type": "code",
   "execution_count": null,
   "metadata": {},
   "outputs": [],
   "source": []
  }
 ],
 "metadata": {
  "kernelspec": {
   "display_name": "Python 2",
   "language": "python",
   "name": "python2"
  },
  "language_info": {
   "codemirror_mode": {
    "name": "ipython",
    "version": 2
   },
   "file_extension": ".py",
   "mimetype": "text/x-python",
   "name": "python",
   "nbconvert_exporter": "python",
   "pygments_lexer": "ipython2",
   "version": "2.7.14"
  }
 },
 "nbformat": 4,
 "nbformat_minor": 2
}
