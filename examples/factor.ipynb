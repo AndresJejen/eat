{
 "cells": [
  {
   "cell_type": "markdown",
   "metadata": {},
   "source": [
    "# Sample Jupyter Notebook for Using `eat.factor()`"
   ]
  },
  {
   "cell_type": "markdown",
   "metadata": {},
   "source": [
    "Load all the useful python modules\n",
    "\n",
    "The `eat` module is actively developed.  It is installed in the development mode by `cd eat && pip install -e .` (note the `-e` flag).  Together with the the `autoreload` jupyter extension, we have a smooth development workflow that does not require continuous module reinstallation."
   ]
  },
  {
   "cell_type": "code",
   "execution_count": 1,
   "metadata": {},
   "outputs": [],
   "source": [
    "%load_ext autoreload\n",
    "%autoreload 2\n",
    "\n",
    "import random as rd\n",
    "import pandas as pd\n",
    "import numpy  as np\n",
    "import eat"
   ]
  },
  {
   "cell_type": "markdown",
   "metadata": {},
   "source": [
    "Randomly generate site-based rates/delays"
   ]
  },
  {
   "cell_type": "code",
   "execution_count": 16,
   "metadata": {},
   "outputs": [
    {
     "name": "stdout",
     "output_type": "stream",
     "text": [
      "a 0.46263502450553085\n",
      "b -0.7695431667424852\n",
      "c -0.8190434585304176\n",
      "d 0.4018592899562725\n",
      "e 0.6569735163635169\n"
     ]
    }
   ],
   "source": [
    "sites = \"abcde\"\n",
    "\n",
    "sb = {s:(2*rd.random()-1) for s in sites}\n",
    "for s in sites:\n",
    "    print(s, sb[s])"
   ]
  },
  {
   "cell_type": "markdown",
   "metadata": {},
   "source": [
    "Generate baseline-based rates/delays using `sb`"
   ]
  },
  {
   "cell_type": "code",
   "execution_count": 18,
   "metadata": {},
   "outputs": [
    {
     "name": "stdout",
     "output_type": "stream",
     "text": [
      "[('a', 'b',  1.2321782) ('a', 'c',  1.2816785) ('a', 'd',  0.060775735)\n",
      " ('a', 'e', -0.19433849) ('b', 'c',  0.049500292) ('b', 'd', -1.1714025)\n",
      " ('b', 'e', -1.4265167) ('c', 'd', -1.2209027) ('c', 'e', -1.476017)\n",
      " ('d', 'e', -0.25511423)]\n"
     ]
    }
   ],
   "source": [
    "bb = np.array([(ref, rem, sb[ref] - sb[rem]) for ref in sites for rem in sites if rem > ref],\n",
    "              dtype=[('ref', 'U3'), ('rem', 'U2'), ('val', 'f16')])\n",
    "print(bb)"
   ]
  },
  {
   "cell_type": "markdown",
   "metadata": {},
   "source": [
    "Use `eat.factor()` to factor out site-based delays/rates from baseline-based delays/rates"
   ]
  },
  {
   "cell_type": "code",
   "execution_count": 40,
   "metadata": {},
   "outputs": [
    {
     "name": "stdout",
     "output_type": "stream",
     "text": [
      "a 0.476058783395\n",
      "b -0.756119407853\n",
      "c -0.805619699641\n",
      "d 0.415283048846\n",
      "e 0.670397275253\n"
     ]
    }
   ],
   "source": [
    "sol = eat.factor(bb)\n",
    "for s in sites:\n",
    "    print(s, sol[s])"
   ]
  },
  {
   "cell_type": "markdown",
   "metadata": {},
   "source": [
    "Make sure that the solution is only different from the original rates/delays by a constant"
   ]
  },
  {
   "cell_type": "code",
   "execution_count": 41,
   "metadata": {},
   "outputs": [
    {
     "name": "stdout",
     "output_type": "stream",
     "text": [
      "a 0.0134237588895\n",
      "b 0.0134237588895\n",
      "c 0.0134237588895\n",
      "d 0.0134237588895\n",
      "e 0.0134237588895\n"
     ]
    }
   ],
   "source": [
    "for s in sites:\n",
    "    print(s, sol[s]-sb[s])"
   ]
  },
  {
   "cell_type": "code",
   "execution_count": null,
   "metadata": {
    "collapsed": true
   },
   "outputs": [],
   "source": []
  }
 ],
 "metadata": {
  "kernelspec": {
   "display_name": "Python 3",
   "language": "python",
   "name": "python3"
  },
  "language_info": {
   "codemirror_mode": {
    "name": "ipython",
    "version": 3
   },
   "file_extension": ".py",
   "mimetype": "text/x-python",
   "name": "python",
   "nbconvert_exporter": "python",
   "pygments_lexer": "ipython3",
   "version": "3.5.3"
  }
 },
 "nbformat": 4,
 "nbformat_minor": 2
}
