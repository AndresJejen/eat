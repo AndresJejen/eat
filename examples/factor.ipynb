{
 "cells": [
  {
   "cell_type": "markdown",
   "metadata": {},
   "source": [
    "# Sample Jupyter Notebook for Using `eat.factor()`"
   ]
  },
  {
   "cell_type": "markdown",
   "metadata": {},
   "source": [
    "Load all the useful python modules\n",
    "\n",
    "The `eat` module is actively developed.  It is installed in the development mode by `cd eat && pip install -e .` (note the `-e` flag).  Together with the the `autoreload` jupyter extension, we have a smooth development workflow that does not require continuous module reinstallation."
   ]
  },
  {
   "cell_type": "code",
   "execution_count": 1,
   "metadata": {
    "collapsed": true
   },
   "outputs": [],
   "source": [
    "%load_ext autoreload\n",
    "%autoreload 2\n",
    "\n",
    "import pandas as pd\n",
    "import numpy  as np\n",
    "import eat"
   ]
  },
  {
   "cell_type": "markdown",
   "metadata": {},
   "source": [
    "Randomly generate a dictionary of zero-mean site-based rates/delays"
   ]
  },
  {
   "cell_type": "code",
   "execution_count": 2,
   "metadata": {},
   "outputs": [
    {
     "name": "stdout",
     "output_type": "stream",
     "text": [
      "a -0.863007087472\n",
      "b 0.0164040610986\n",
      "c -0.687765804877\n",
      "d -0.801031135263\n",
      "e -0.945484217627\n"
     ]
    }
   ],
   "source": [
    "sites = \"abcde\"\n",
    "\n",
    "r  = 2 * np.random.rand(len(sites)) - 1\n",
    "sb = {s:r[i] for i, s in enumerate(sites)}\n",
    "for s in sites:\n",
    "    print(s, sb[s])"
   ]
  },
  {
   "cell_type": "markdown",
   "metadata": {},
   "source": [
    "Generate baseline-based rates/delays using `sb`"
   ]
  },
  {
   "cell_type": "code",
   "execution_count": 3,
   "metadata": {},
   "outputs": [
    {
     "name": "stdout",
     "output_type": "stream",
     "text": [
      "[('a', 'b', -0.87941115) ('a', 'c', -0.17524128) ('a', 'd', -0.061975952)\n",
      " ('a', 'e',  0.08247713) ('b', 'c',  0.70416987) ('b', 'd',  0.8174352)\n",
      " ('b', 'e',  0.96188828) ('c', 'd',  0.11326533) ('c', 'e',  0.25771841)\n",
      " ('d', 'e',  0.14445308)]\n"
     ]
    }
   ],
   "source": [
    "bb = np.array([(ref, rem, sb[ref] - sb[rem]) for ref in sites for rem in sites if rem > ref],\n",
    "              dtype=[('ref', 'U3'), ('rem', 'U2'), ('val', 'f16')])\n",
    "print(bb)"
   ]
  },
  {
   "cell_type": "markdown",
   "metadata": {},
   "source": [
    "Use `eat.factor()` to factor out site-based delays/rates from baseline-based delays/rates"
   ]
  },
  {
   "cell_type": "code",
   "execution_count": 7,
   "metadata": {},
   "outputs": [
    {
     "name": "stdout",
     "output_type": "stream",
     "text": [
      "a -0.206830250644\n",
      "b 0.672580897926\n",
      "c -0.0315889680491\n",
      "d -0.144854298435\n",
      "e -0.289307380799\n"
     ]
    }
   ],
   "source": [
    "sol = eat.factor(bb, regularizer='mean', weight=10.0)\n",
    "for s in sites:\n",
    "    print(s, sol[s])"
   ]
  },
  {
   "cell_type": "markdown",
   "metadata": {},
   "source": [
    "The solution is in general different from the original rates/delays by a constant."
   ]
  },
  {
   "cell_type": "code",
   "execution_count": 8,
   "metadata": {},
   "outputs": [
    {
     "name": "stdout",
     "output_type": "stream",
     "text": [
      "a 0.656176836828\n",
      "b 0.656176836828\n",
      "c 0.656176836828\n",
      "d 0.656176836828\n",
      "e 0.656176836828\n"
     ]
    }
   ],
   "source": [
    "for s in sites:\n",
    "    print(s, sol[s]-sb[s])"
   ]
  },
  {
   "cell_type": "code",
   "execution_count": null,
   "metadata": {
    "collapsed": true
   },
   "outputs": [],
   "source": []
  }
 ],
 "metadata": {
  "kernelspec": {
   "display_name": "Python 3",
   "language": "python",
   "name": "python3"
  },
  "language_info": {
   "codemirror_mode": {
    "name": "ipython",
    "version": 3
   },
   "file_extension": ".py",
   "mimetype": "text/x-python",
   "name": "python",
   "nbconvert_exporter": "python",
   "pygments_lexer": "ipython3",
   "version": "3.5.3"
  }
 },
 "nbformat": 4,
 "nbformat_minor": 2
}
