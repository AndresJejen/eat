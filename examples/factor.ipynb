{
 "cells": [
  {
   "cell_type": "markdown",
   "metadata": {},
   "source": [
    "# Sample Jupyter Notebook for Using `eat.factor()`"
   ]
  },
  {
   "cell_type": "markdown",
   "metadata": {},
   "source": [
    "Load all the useful python modules\n",
    "\n",
    "The `eat` module is actively developed.  It is installed in the development mode by `cd eat && pip install -e .` (note the `-e` flag).  Together with the the `autoreload` jupyter extension, we have a smooth development workflow that does not require continuous module reinstallation."
   ]
  },
  {
   "cell_type": "code",
   "execution_count": 1,
   "metadata": {
    "collapsed": true
   },
   "outputs": [],
   "source": [
    "%load_ext autoreload\n",
    "%autoreload 2\n",
    "\n",
    "import pandas as pd\n",
    "import numpy  as np\n",
    "import eat"
   ]
  },
  {
   "cell_type": "markdown",
   "metadata": {},
   "source": [
    "Randomly generate a dictionary of zero-mean site-based rates/delays"
   ]
  },
  {
   "cell_type": "code",
   "execution_count": 2,
   "metadata": {},
   "outputs": [
    {
     "name": "stdout",
     "output_type": "stream",
     "text": [
      "a -0.022633793981\n",
      "b 0.300877104612\n",
      "c 0.0712440895528\n",
      "d -0.300592350357\n",
      "e -0.0488950498268\n"
     ]
    }
   ],
   "source": [
    "sites = \"abcde\"\n",
    "\n",
    "r  = 2 * np.random.rand(len(sites)) - 1\n",
    "r -= np.mean(r)\n",
    "sb = {s:r[i] for i, s in enumerate(sites)}\n",
    "for s in sites:\n",
    "    print(s, sb[s])"
   ]
  },
  {
   "cell_type": "markdown",
   "metadata": {},
   "source": [
    "Generate baseline-based rates/delays using `sb`"
   ]
  },
  {
   "cell_type": "code",
   "execution_count": 3,
   "metadata": {},
   "outputs": [
    {
     "name": "stdout",
     "output_type": "stream",
     "text": [
      "[('a', 'b', -0.3235109) ('a', 'c', -0.093877884) ('a', 'd',  0.27795856)\n",
      " ('a', 'e',  0.026261256) ('b', 'c',  0.22963302) ('b', 'd',  0.60146945)\n",
      " ('b', 'e',  0.34977215) ('c', 'd',  0.37183644) ('c', 'e',  0.12013914)\n",
      " ('d', 'e', -0.2516973)]\n"
     ]
    }
   ],
   "source": [
    "bb = np.array([(ref, rem, sb[ref] - sb[rem]) for ref in sites\n",
    "                                             for rem in sites if rem > ref],\n",
    "              dtype=[('ref', 'U3'), ('rem', 'U2'), ('val', 'f16')])\n",
    "print(bb)"
   ]
  },
  {
   "cell_type": "markdown",
   "metadata": {},
   "source": [
    "Use `eat.factor()` to factor out site-based delays/rates from baseline-based delays/rates"
   ]
  },
  {
   "cell_type": "code",
   "execution_count": 4,
   "metadata": {},
   "outputs": [
    {
     "name": "stdout",
     "output_type": "stream",
     "text": [
      "a -0.022633793981\n",
      "b 0.300877104612\n",
      "c 0.0712440895528\n",
      "d -0.300592350357\n",
      "e -0.0488950498268\n"
     ]
    }
   ],
   "source": [
    "sol = eat.factor(bb, regularizer=None, weight=10.0)\n",
    "for s in sites:\n",
    "    print(s, sol[s])"
   ]
  },
  {
   "cell_type": "markdown",
   "metadata": {},
   "source": [
    "The solution is in general different from the original rates/delays by a constant."
   ]
  },
  {
   "cell_type": "code",
   "execution_count": 5,
   "metadata": {},
   "outputs": [
    {
     "name": "stdout",
     "output_type": "stream",
     "text": [
      "a 5.08219768353e-21\n",
      "b 0.0\n",
      "c 0.0\n",
      "d 0.0\n",
      "e -3.38813178902e-21\n"
     ]
    }
   ],
   "source": [
    "for s in sites:\n",
    "    print(s, sol[s]-sb[s])"
   ]
  },
  {
   "cell_type": "code",
   "execution_count": null,
   "metadata": {
    "collapsed": true
   },
   "outputs": [],
   "source": []
  }
 ],
 "metadata": {
  "kernelspec": {
   "display_name": "Python 3",
   "language": "python",
   "name": "python3"
  },
  "language_info": {
   "codemirror_mode": {
    "name": "ipython",
    "version": 3
   },
   "file_extension": ".py",
   "mimetype": "text/x-python",
   "name": "python",
   "nbconvert_exporter": "python",
   "pygments_lexer": "ipython3",
   "version": "3.5.3"
  }
 },
 "nbformat": 4,
 "nbformat_minor": 2
}
