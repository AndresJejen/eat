{
 "cells": [
  {
   "cell_type": "markdown",
   "metadata": {},
   "source": [
    "# Sample Jupyter Notebook for Using `eat.factor()`"
   ]
  },
  {
   "cell_type": "markdown",
   "metadata": {},
   "source": [
    "Load all the useful python modules\n",
    "\n",
    "The `eat` module is actively developed.  It is installed in the development mode by `cd eat && pip install -e .` (note the `-e` flag).  Together with the the `autoreload` jupyter extension, we have a smooth development workflow that does not require continuous module reinstallation."
   ]
  },
  {
   "cell_type": "code",
   "execution_count": 1,
   "metadata": {
    "collapsed": true
   },
   "outputs": [],
   "source": [
    "%load_ext autoreload\n",
    "%autoreload 2\n",
    "\n",
    "import pandas as pd\n",
    "import numpy  as np\n",
    "import eat"
   ]
  },
  {
   "cell_type": "markdown",
   "metadata": {},
   "source": [
    "Randomly generate a dictionary of zero-mean site-based rates/delays"
   ]
  },
  {
   "cell_type": "code",
   "execution_count": 2,
   "metadata": {},
   "outputs": [
    {
     "name": "stdout",
     "output_type": "stream",
     "text": [
      "a 0.045500267828\n",
      "b 0.886802656316\n",
      "c -0.271277162888\n",
      "d -0.366041759545\n",
      "e -0.294984001712\n"
     ]
    }
   ],
   "source": [
    "sites = \"abcde\"\n",
    "\n",
    "r  = 2 * np.random.rand(len(sites)) - 1\n",
    "r -= np.mean(r)\n",
    "sb = {s:r[i] for i, s in enumerate(sites)}\n",
    "for s in sites:\n",
    "    print(s, sb[s])"
   ]
  },
  {
   "cell_type": "markdown",
   "metadata": {},
   "source": [
    "Generate baseline-based rates/delays using `sb`"
   ]
  },
  {
   "cell_type": "code",
   "execution_count": 3,
   "metadata": {},
   "outputs": [
    {
     "name": "stdout",
     "output_type": "stream",
     "text": [
      "[('a', 'b', -0.84130239,  1.0) ('a', 'c',  0.31677743,  1.0)\n",
      " ('a', 'd',  0.41154203,  1.0) ('a', 'e',  0.34048427,  1.0)\n",
      " ('b', 'c',  1.1580798,  1.0) ('b', 'd',  1.2528444,  1.0)\n",
      " ('b', 'e',  1.1817867,  1.0) ('c', 'd',  0.094764597,  1.0)\n",
      " ('c', 'e',  0.023706839,  1.0) ('d', 'e', -0.071057758,  1.0)]\n"
     ]
    }
   ],
   "source": [
    "bb = np.array([(ref, rem, sb[ref] - sb[rem], 1.0)\n",
    "               for ref in sites\n",
    "               for rem in sites if rem > ref],\n",
    "              dtype=[('ref', 'U3'), ('rem', 'U2'), ('val', 'f16'), ('err', 'f16')])\n",
    "print(bb)"
   ]
  },
  {
   "cell_type": "markdown",
   "metadata": {},
   "source": [
    "Use `eat.factor()` to factor out site-based delays/rates from baseline-based delays/rates"
   ]
  },
  {
   "cell_type": "code",
   "execution_count": 4,
   "metadata": {},
   "outputs": [
    {
     "name": "stdout",
     "output_type": "stream",
     "text": [
      "a 0.0455002678927\n",
      "b 0.886802657577\n",
      "c -0.271277163274\n",
      "d -0.366041760065\n",
      "e -0.294984002131\n"
     ]
    }
   ],
   "source": [
    "sol = eat.factor(bb, regularizer=None, weight=10.0)\n",
    "for s in sites:\n",
    "    print(s, sol[s])"
   ]
  },
  {
   "cell_type": "markdown",
   "metadata": {},
   "source": [
    "The solution is in general different from the original rates/delays by a constant."
   ]
  },
  {
   "cell_type": "code",
   "execution_count": 5,
   "metadata": {},
   "outputs": [
    {
     "name": "stdout",
     "output_type": "stream",
     "text": [
      "a 6.47028162554e-11\n",
      "b 1.26106109263e-09\n",
      "c -3.85764606375e-10\n",
      "d -5.20522829266e-10\n",
      "e -4.19476473278e-10\n"
     ]
    }
   ],
   "source": [
    "for s in sites:\n",
    "    print(s, sol[s]-sb[s])"
   ]
  },
  {
   "cell_type": "code",
   "execution_count": null,
   "metadata": {
    "collapsed": true
   },
   "outputs": [],
   "source": []
  }
 ],
 "metadata": {
  "kernelspec": {
   "display_name": "Python 3",
   "language": "python",
   "name": "python3"
  },
  "language_info": {
   "codemirror_mode": {
    "name": "ipython",
    "version": 3
   },
   "file_extension": ".py",
   "mimetype": "text/x-python",
   "name": "python",
   "nbconvert_exporter": "python",
   "pygments_lexer": "ipython3",
   "version": "3.4.7"
  }
 },
 "nbformat": 4,
 "nbformat_minor": 2
}
