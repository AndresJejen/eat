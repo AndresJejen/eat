{
 "cells": [
  {
   "cell_type": "markdown",
   "metadata": {},
   "source": [
    "# Sample Jupyter Notebook for Using `eat.factor()`"
   ]
  },
  {
   "cell_type": "markdown",
   "metadata": {},
   "source": [
    "Load all the useful python modules\n",
    "\n",
    "The `eat` module is actively developed.  It is installed in the development mode by `cd eat && pip install -e .` (note the `-e` flag).  Together with the the `autoreload` jupyter extension, we have a smooth development workflow that does not require continuous module reinstallation."
   ]
  },
  {
   "cell_type": "code",
   "execution_count": 1,
   "metadata": {
    "collapsed": true
   },
   "outputs": [],
   "source": [
    "%load_ext autoreload\n",
    "%autoreload 2\n",
    "\n",
    "import random\n",
    "import pandas as pd\n",
    "import numpy  as np\n",
    "import eat"
   ]
  },
  {
   "cell_type": "markdown",
   "metadata": {},
   "source": [
    "Randomly generate a dictionary of zero-mean site-based rates/delays"
   ]
  },
  {
   "cell_type": "code",
   "execution_count": 2,
   "metadata": {},
   "outputs": [
    {
     "name": "stdout",
     "output_type": "stream",
     "text": [
      "a 0.67833981911\n",
      "b -0.272462743345\n",
      "c 0.0800592758677\n",
      "d -1.00117009516\n",
      "e 0.515233743531\n"
     ]
    }
   ],
   "source": [
    "sites = \"abcde\"\n",
    "\n",
    "r  = 2 * np.random.rand(len(sites)) - 1\n",
    "r -= np.mean(r)\n",
    "sb = {s:r[i] for i, s in enumerate(sites)}\n",
    "for s in sites:\n",
    "    print(s, sb[s])"
   ]
  },
  {
   "cell_type": "markdown",
   "metadata": {},
   "source": [
    "Generate baseline-based rates/delays using `sb`"
   ]
  },
  {
   "cell_type": "code",
   "execution_count": 3,
   "metadata": {},
   "outputs": [
    {
     "name": "stdout",
     "output_type": "stream",
     "text": [
      "[('a', 'b',  0.95080256,  0.64663428) ('a', 'c',  0.59828054,  0.10565441)\n",
      " ('a', 'd',  1.6795099,  0.2100609) ('a', 'e',  0.16310608,  0.30395713)\n",
      " ('b', 'c', -0.35252202,  0.84996419) ('b', 'd',  0.72870735,  0.68698353)\n",
      " ('b', 'e', -0.78769649,  0.88921855) ('c', 'd',  1.0812294,  0.50057999)\n",
      " ('c', 'e', -0.43517447,  0.065648848) ('d', 'e', -1.5164038,  0.65888938)]\n"
     ]
    }
   ],
   "source": [
    "bb = np.array([(ref, rem, sb[ref] - sb[rem], random.random())\n",
    "               for ref in sites\n",
    "               for rem in sites if rem > ref],\n",
    "              dtype=[('ref', 'U3'), ('rem', 'U2'), ('val', 'f16'), ('err', 'f16')])\n",
    "print(bb)"
   ]
  },
  {
   "cell_type": "markdown",
   "metadata": {},
   "source": [
    "Use `eat.factor()` to factor out site-based delays/rates from baseline-based delays/rates"
   ]
  },
  {
   "cell_type": "code",
   "execution_count": 4,
   "metadata": {},
   "outputs": [
    {
     "name": "stdout",
     "output_type": "stream",
     "text": [
      "a 0.67833981911\n",
      "b -0.272462743346\n",
      "c 0.0800592758677\n",
      "d -1.00117009516\n",
      "e 0.515233743531\n"
     ]
    }
   ],
   "source": [
    "sol = eat.factor(bb, regularizer=None, weight=10.0)\n",
    "for s in sites:\n",
    "    print(s, sol[s])"
   ]
  },
  {
   "cell_type": "markdown",
   "metadata": {},
   "source": [
    "The solution is in general different from the original rates/delays by a constant."
   ]
  },
  {
   "cell_type": "code",
   "execution_count": 5,
   "metadata": {},
   "outputs": [
    {
     "name": "stdout",
     "output_type": "stream",
     "text": [
      "a 4.47829707345e-15\n",
      "b -8.34760591813e-14\n",
      "c 1.30501281981e-14\n",
      "d 5.38086285598e-14\n",
      "e 1.21667541493e-14\n"
     ]
    }
   ],
   "source": [
    "for s in sites:\n",
    "    print(s, sol[s]-sb[s])"
   ]
  },
  {
   "cell_type": "code",
   "execution_count": null,
   "metadata": {
    "collapsed": true
   },
   "outputs": [],
   "source": []
  }
 ],
 "metadata": {
  "kernelspec": {
   "display_name": "Python 3",
   "language": "python",
   "name": "python3"
  },
  "language_info": {
   "codemirror_mode": {
    "name": "ipython",
    "version": 3
   },
   "file_extension": ".py",
   "mimetype": "text/x-python",
   "name": "python",
   "nbconvert_exporter": "python",
   "pygments_lexer": "ipython3",
   "version": "3.4.7"
  }
 },
 "nbformat": 4,
 "nbformat_minor": 2
}
